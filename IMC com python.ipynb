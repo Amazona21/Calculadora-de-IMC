{
 "cells": [
  {
   "cell_type": "code",
   "execution_count": 29,
   "id": "6e0671ae",
   "metadata": {},
   "outputs": [
    {
     "name": "stdout",
     "output_type": "stream",
     "text": [
      "Qual é a sua altura em metros?1.65\n",
      "qual é o seu peso em kg?65\n",
      "seu IMC é 23.875114784205696\n",
      "seu IMC é de 23.875114784205696, e é classificado como normal\n"
     ]
    }
   ],
   "source": [
    "altura=float(input ('Qual é a sua altura em metros?'))\n",
    "peso = float(input('qual é o seu peso em kg?'))\n",
    "IMC= peso/(altura*altura)\n",
    "print(\"seu IMC é\", IMC)\n",
    "\n",
    "if IMC < 18.5:\n",
    "    \n",
    "         print(f' seu IMC é de {IMC}, e é classificado como Magreza')\n",
    "        \n",
    "elif IMC >= 19 and IMC < 24.5:\n",
    "\n",
    "        print(f'seu IMC é de {IMC}, e é classificado como normal')\n",
    "    \n",
    "elif IMC >= 25 and IMC < 29.9:\n",
    "    \n",
    "        print(f'seu IMC é de {IMC}, e é classificado como sobrepeso')\n",
    "        \n",
    "elif IMC >= 30 and IMC < 39.9:\n",
    "    \n",
    "        print(f' seu IMC é de {IMC}, e é classificado como obesidade')\n",
    "else:\n",
    "        print(\"pode parar de comer e começar a malhar, pois está com obesidade Grave!!\")\n",
    "           "
   ]
  },
  {
   "cell_type": "code",
   "execution_count": null,
   "id": "58661584",
   "metadata": {},
   "outputs": [],
   "source": []
  },
  {
   "cell_type": "code",
   "execution_count": null,
   "id": "df77a6bd",
   "metadata": {},
   "outputs": [],
   "source": []
  }
 ],
 "metadata": {
  "kernelspec": {
   "display_name": "Python 3 (ipykernel)",
   "language": "python",
   "name": "python3"
  },
  "language_info": {
   "codemirror_mode": {
    "name": "ipython",
    "version": 3
   },
   "file_extension": ".py",
   "mimetype": "text/x-python",
   "name": "python",
   "nbconvert_exporter": "python",
   "pygments_lexer": "ipython3",
   "version": "3.9.12"
  }
 },
 "nbformat": 4,
 "nbformat_minor": 5
}
